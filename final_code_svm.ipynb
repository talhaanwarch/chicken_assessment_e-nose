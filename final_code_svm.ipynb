{
 "cells": [
  {
   "cell_type": "code",
   "execution_count": 2,
   "id": "ec381682",
   "metadata": {},
   "outputs": [],
   "source": [
    "import numpy as np\n",
    "import pandas as pd\n",
    "from sklearn.model_selection import GroupKFold,KFold\n",
    "from sklearn.linear_model import LogisticRegression\n",
    "from sklearn.tree import DecisionTreeRegressor, DecisionTreeClassifier\n",
    "from sklearn.ensemble import RandomForestClassifier\n",
    "from sklearn.preprocessing import StandardScaler\n",
    "from sklearn.metrics import mean_absolute_error,classification_report\n",
    "from imblearn.over_sampling import *\n",
    "from sklearn.svm import SVC\n",
    "from matplotlib import pyplot as plt"
   ]
  },
  {
   "cell_type": "code",
   "execution_count": 3,
   "id": "cf7f9275",
   "metadata": {},
   "outputs": [
    {
     "data": {
      "text/html": [
       "<div>\n",
       "<style scoped>\n",
       "    .dataframe tbody tr th:only-of-type {\n",
       "        vertical-align: middle;\n",
       "    }\n",
       "\n",
       "    .dataframe tbody tr th {\n",
       "        vertical-align: top;\n",
       "    }\n",
       "\n",
       "    .dataframe thead th {\n",
       "        text-align: right;\n",
       "    }\n",
       "</style>\n",
       "<table border=\"1\" class=\"dataframe\">\n",
       "  <thead>\n",
       "    <tr style=\"text-align: right;\">\n",
       "      <th></th>\n",
       "      <th>s1</th>\n",
       "      <th>s2</th>\n",
       "      <th>s3</th>\n",
       "      <th>s4</th>\n",
       "      <th>s5</th>\n",
       "      <th>s6</th>\n",
       "      <th>s8</th>\n",
       "      <th>hour</th>\n",
       "      <th>group</th>\n",
       "    </tr>\n",
       "  </thead>\n",
       "  <tbody>\n",
       "    <tr>\n",
       "      <th>0</th>\n",
       "      <td>0.0</td>\n",
       "      <td>0.0</td>\n",
       "      <td>0.0</td>\n",
       "      <td>0.0</td>\n",
       "      <td>0.0</td>\n",
       "      <td>0.0</td>\n",
       "      <td>0.0</td>\n",
       "      <td>0</td>\n",
       "      <td>0</td>\n",
       "    </tr>\n",
       "    <tr>\n",
       "      <th>1</th>\n",
       "      <td>2.0</td>\n",
       "      <td>4.0</td>\n",
       "      <td>3.0</td>\n",
       "      <td>1.0</td>\n",
       "      <td>1.0</td>\n",
       "      <td>0.0</td>\n",
       "      <td>0.1</td>\n",
       "      <td>0</td>\n",
       "      <td>0</td>\n",
       "    </tr>\n",
       "    <tr>\n",
       "      <th>2</th>\n",
       "      <td>4.0</td>\n",
       "      <td>6.0</td>\n",
       "      <td>-5.0</td>\n",
       "      <td>0.0</td>\n",
       "      <td>1.0</td>\n",
       "      <td>-1.0</td>\n",
       "      <td>0.1</td>\n",
       "      <td>0</td>\n",
       "      <td>0</td>\n",
       "    </tr>\n",
       "    <tr>\n",
       "      <th>3</th>\n",
       "      <td>7.0</td>\n",
       "      <td>10.0</td>\n",
       "      <td>4.0</td>\n",
       "      <td>3.0</td>\n",
       "      <td>1.0</td>\n",
       "      <td>7.0</td>\n",
       "      <td>0.0</td>\n",
       "      <td>0</td>\n",
       "      <td>0</td>\n",
       "    </tr>\n",
       "    <tr>\n",
       "      <th>4</th>\n",
       "      <td>13.0</td>\n",
       "      <td>13.0</td>\n",
       "      <td>8.0</td>\n",
       "      <td>7.0</td>\n",
       "      <td>2.0</td>\n",
       "      <td>19.0</td>\n",
       "      <td>0.0</td>\n",
       "      <td>0</td>\n",
       "      <td>0</td>\n",
       "    </tr>\n",
       "  </tbody>\n",
       "</table>\n",
       "</div>"
      ],
      "text/plain": [
       "     s1    s2   s3   s4   s5    s6   s8  hour  group\n",
       "0   0.0   0.0  0.0  0.0  0.0   0.0  0.0     0      0\n",
       "1   2.0   4.0  3.0  1.0  1.0   0.0  0.1     0      0\n",
       "2   4.0   6.0 -5.0  0.0  1.0  -1.0  0.1     0      0\n",
       "3   7.0  10.0  4.0  3.0  1.0   7.0  0.0     0      0\n",
       "4  13.0  13.0  8.0  7.0  2.0  19.0  0.0     0      0"
      ]
     },
     "execution_count": 3,
     "metadata": {},
     "output_type": "execute_result"
    }
   ],
   "source": [
    "df=pd.read_csv('complete_data.csv')\n",
    "df.head(5)"
   ]
  },
  {
   "cell_type": "code",
   "execution_count": null,
   "id": "bae1ccae",
   "metadata": {},
   "outputs": [],
   "source": []
  },
  {
   "cell_type": "code",
   "execution_count": 4,
   "id": "24ed370c",
   "metadata": {},
   "outputs": [],
   "source": [
    "#first take 12 unit average window in each hour and group, because there are 12 values in each minute"
   ]
  },
  {
   "cell_type": "code",
   "execution_count": 5,
   "id": "2c9a3473",
   "metadata": {},
   "outputs": [],
   "source": [
    "# df_list=[]\n",
    "# for i in range(0,len(df),12):\n",
    "#     df_list.append(df.iloc[i:i+12].mean())\n",
    "# df_new=pd.concat(df_list,1).T    \n",
    "df=df.groupby(df.index//12*5).mean()\n"
   ]
  },
  {
   "cell_type": "code",
   "execution_count": 6,
   "id": "6b474a9a",
   "metadata": {},
   "outputs": [],
   "source": [
    "df.hour=df.hour.round()\n",
    "df.group=df.group.round()"
   ]
  },
  {
   "cell_type": "code",
   "execution_count": 7,
   "id": "efb5c64e",
   "metadata": {},
   "outputs": [],
   "source": [
    "# df.drop('s8',axis=1,inplace=True)\n",
    "# df.head()\n"
   ]
  },
  {
   "cell_type": "code",
   "execution_count": 8,
   "id": "3ba9cffb",
   "metadata": {},
   "outputs": [],
   "source": [
    "dfs=[]\n",
    "for i in df.group.unique():\n",
    "    dfs.append(df[df['group']==i][1:-1])#just remove some rows from end of each group\n",
    "    "
   ]
  },
  {
   "cell_type": "code",
   "execution_count": 9,
   "id": "80715b57",
   "metadata": {},
   "outputs": [
    {
     "data": {
      "text/html": [
       "<div>\n",
       "<style scoped>\n",
       "    .dataframe tbody tr th:only-of-type {\n",
       "        vertical-align: middle;\n",
       "    }\n",
       "\n",
       "    .dataframe tbody tr th {\n",
       "        vertical-align: top;\n",
       "    }\n",
       "\n",
       "    .dataframe thead th {\n",
       "        text-align: right;\n",
       "    }\n",
       "</style>\n",
       "<table border=\"1\" class=\"dataframe\">\n",
       "  <thead>\n",
       "    <tr style=\"text-align: right;\">\n",
       "      <th></th>\n",
       "      <th>s1</th>\n",
       "      <th>s2</th>\n",
       "      <th>s3</th>\n",
       "      <th>s4</th>\n",
       "      <th>s5</th>\n",
       "      <th>s6</th>\n",
       "      <th>s8</th>\n",
       "      <th>hour</th>\n",
       "      <th>group</th>\n",
       "    </tr>\n",
       "  </thead>\n",
       "  <tbody>\n",
       "    <tr>\n",
       "      <th>5</th>\n",
       "      <td>39.750000</td>\n",
       "      <td>33.333333</td>\n",
       "      <td>29.000000</td>\n",
       "      <td>22.916667</td>\n",
       "      <td>10.000000</td>\n",
       "      <td>42.250000</td>\n",
       "      <td>0.516667</td>\n",
       "      <td>0.0</td>\n",
       "      <td>0.0</td>\n",
       "    </tr>\n",
       "    <tr>\n",
       "      <th>10</th>\n",
       "      <td>47.083333</td>\n",
       "      <td>43.000000</td>\n",
       "      <td>38.916667</td>\n",
       "      <td>29.833333</td>\n",
       "      <td>14.583333</td>\n",
       "      <td>49.416667</td>\n",
       "      <td>0.841667</td>\n",
       "      <td>0.0</td>\n",
       "      <td>0.0</td>\n",
       "    </tr>\n",
       "    <tr>\n",
       "      <th>15</th>\n",
       "      <td>52.416667</td>\n",
       "      <td>48.833333</td>\n",
       "      <td>47.833333</td>\n",
       "      <td>34.000000</td>\n",
       "      <td>17.666667</td>\n",
       "      <td>53.166667</td>\n",
       "      <td>1.025000</td>\n",
       "      <td>0.0</td>\n",
       "      <td>0.0</td>\n",
       "    </tr>\n",
       "    <tr>\n",
       "      <th>20</th>\n",
       "      <td>56.583333</td>\n",
       "      <td>52.416667</td>\n",
       "      <td>55.333333</td>\n",
       "      <td>37.166667</td>\n",
       "      <td>19.416667</td>\n",
       "      <td>54.916667</td>\n",
       "      <td>1.200000</td>\n",
       "      <td>0.0</td>\n",
       "      <td>0.0</td>\n",
       "    </tr>\n",
       "    <tr>\n",
       "      <th>25</th>\n",
       "      <td>57.583333</td>\n",
       "      <td>52.166667</td>\n",
       "      <td>58.000000</td>\n",
       "      <td>39.333333</td>\n",
       "      <td>20.750000</td>\n",
       "      <td>55.916667</td>\n",
       "      <td>1.391667</td>\n",
       "      <td>0.0</td>\n",
       "      <td>0.0</td>\n",
       "    </tr>\n",
       "    <tr>\n",
       "      <th>...</th>\n",
       "      <td>...</td>\n",
       "      <td>...</td>\n",
       "      <td>...</td>\n",
       "      <td>...</td>\n",
       "      <td>...</td>\n",
       "      <td>...</td>\n",
       "      <td>...</td>\n",
       "      <td>...</td>\n",
       "      <td>...</td>\n",
       "    </tr>\n",
       "    <tr>\n",
       "      <th>90940</th>\n",
       "      <td>602.166667</td>\n",
       "      <td>626.250000</td>\n",
       "      <td>589.000000</td>\n",
       "      <td>682.083333</td>\n",
       "      <td>469.000000</td>\n",
       "      <td>848.250000</td>\n",
       "      <td>0.750000</td>\n",
       "      <td>13.0</td>\n",
       "      <td>14.0</td>\n",
       "    </tr>\n",
       "    <tr>\n",
       "      <th>90945</th>\n",
       "      <td>602.666667</td>\n",
       "      <td>626.000000</td>\n",
       "      <td>589.000000</td>\n",
       "      <td>681.416667</td>\n",
       "      <td>469.833333</td>\n",
       "      <td>848.000000</td>\n",
       "      <td>0.808333</td>\n",
       "      <td>13.0</td>\n",
       "      <td>14.0</td>\n",
       "    </tr>\n",
       "    <tr>\n",
       "      <th>90950</th>\n",
       "      <td>602.250000</td>\n",
       "      <td>625.916667</td>\n",
       "      <td>589.083333</td>\n",
       "      <td>681.000000</td>\n",
       "      <td>469.916667</td>\n",
       "      <td>848.000000</td>\n",
       "      <td>0.800000</td>\n",
       "      <td>13.0</td>\n",
       "      <td>14.0</td>\n",
       "    </tr>\n",
       "    <tr>\n",
       "      <th>90955</th>\n",
       "      <td>602.666667</td>\n",
       "      <td>626.666667</td>\n",
       "      <td>589.000000</td>\n",
       "      <td>681.833333</td>\n",
       "      <td>470.083333</td>\n",
       "      <td>848.083333</td>\n",
       "      <td>0.800000</td>\n",
       "      <td>13.0</td>\n",
       "      <td>14.0</td>\n",
       "    </tr>\n",
       "    <tr>\n",
       "      <th>90960</th>\n",
       "      <td>602.500000</td>\n",
       "      <td>626.500000</td>\n",
       "      <td>586.416667</td>\n",
       "      <td>681.666667</td>\n",
       "      <td>470.166667</td>\n",
       "      <td>848.083333</td>\n",
       "      <td>0.810000</td>\n",
       "      <td>13.0</td>\n",
       "      <td>14.0</td>\n",
       "    </tr>\n",
       "  </tbody>\n",
       "</table>\n",
       "<p>18164 rows × 9 columns</p>\n",
       "</div>"
      ],
      "text/plain": [
       "               s1          s2          s3          s4          s5          s6  \\\n",
       "5       39.750000   33.333333   29.000000   22.916667   10.000000   42.250000   \n",
       "10      47.083333   43.000000   38.916667   29.833333   14.583333   49.416667   \n",
       "15      52.416667   48.833333   47.833333   34.000000   17.666667   53.166667   \n",
       "20      56.583333   52.416667   55.333333   37.166667   19.416667   54.916667   \n",
       "25      57.583333   52.166667   58.000000   39.333333   20.750000   55.916667   \n",
       "...           ...         ...         ...         ...         ...         ...   \n",
       "90940  602.166667  626.250000  589.000000  682.083333  469.000000  848.250000   \n",
       "90945  602.666667  626.000000  589.000000  681.416667  469.833333  848.000000   \n",
       "90950  602.250000  625.916667  589.083333  681.000000  469.916667  848.000000   \n",
       "90955  602.666667  626.666667  589.000000  681.833333  470.083333  848.083333   \n",
       "90960  602.500000  626.500000  586.416667  681.666667  470.166667  848.083333   \n",
       "\n",
       "             s8  hour  group  \n",
       "5      0.516667   0.0    0.0  \n",
       "10     0.841667   0.0    0.0  \n",
       "15     1.025000   0.0    0.0  \n",
       "20     1.200000   0.0    0.0  \n",
       "25     1.391667   0.0    0.0  \n",
       "...         ...   ...    ...  \n",
       "90940  0.750000  13.0   14.0  \n",
       "90945  0.808333  13.0   14.0  \n",
       "90950  0.800000  13.0   14.0  \n",
       "90955  0.800000  13.0   14.0  \n",
       "90960  0.810000  13.0   14.0  \n",
       "\n",
       "[18164 rows x 9 columns]"
      ]
     },
     "execution_count": 9,
     "metadata": {},
     "output_type": "execute_result"
    }
   ],
   "source": [
    "df=pd.concat(dfs)\n",
    "df"
   ]
  },
  {
   "cell_type": "code",
   "execution_count": 10,
   "id": "0f8223c2",
   "metadata": {},
   "outputs": [],
   "source": [
    "cols=['mq135','mq2','mq3','mq6','mq7','mq9','humid']\n"
   ]
  },
  {
   "cell_type": "code",
   "execution_count": 11,
   "id": "0cae2fe2",
   "metadata": {},
   "outputs": [
    {
     "data": {
      "image/png": "[encoded data removed]",
      "text/plain": [
       "<Figure size 432x288 with 1 Axes>"
      ]
     },
     "metadata": {
      "needs_background": "light"
     },
     "output_type": "display_data"
    }
   ],
   "source": [
    "\n",
    "day1=df[df.group==3].iloc[:,0:-2].values\n",
    "hours=df[df.group==3]['hour'].values\n",
    "plt.plot(day1,label=cols);\n",
    "plt.legend()\n",
    "plt.xticks(range(0,len(hours)),hours)\n",
    "plt.xticks(np.arange(0, len(hours)+1, 250))\n",
    "plt.title('Sensor response in winter')\n",
    "plt.show()\n"
   ]
  },
  {
   "cell_type": "code",
   "execution_count": 12,
   "id": "76eb64a8",
   "metadata": {},
   "outputs": [
    {
     "data": {
      "image/png": "[encoded data removed]",
      "text/plain": [
       "<Figure size 432x288 with 1 Axes>"
      ]
     },
     "metadata": {
      "needs_background": "light"
     },
     "output_type": "display_data"
    }
   ],
   "source": [
    "\n",
    "day1=df[df.group==14].iloc[:,0:-2].values\n",
    "hours=df[df.group==14]['hour'].values\n",
    "plt.plot(day1,label=cols);\n",
    "plt.legend()\n",
    "plt.xticks(range(0,len(hours)),hours)\n",
    "plt.xticks(np.arange(0, len(hours)+1, 250))\n",
    "plt.title('Sensor response after winter')\n",
    "plt.show()\n"
   ]
  },
  {
   "cell_type": "code",
   "execution_count": 13,
   "id": "c95166ca",
   "metadata": {},
   "outputs": [
    {
     "data": {
      "text/html": [
       "<div>\n",
       "<style scoped>\n",
       "    .dataframe tbody tr th:only-of-type {\n",
       "        vertical-align: middle;\n",
       "    }\n",
       "\n",
       "    .dataframe tbody tr th {\n",
       "        vertical-align: top;\n",
       "    }\n",
       "\n",
       "    .dataframe thead th {\n",
       "        text-align: right;\n",
       "    }\n",
       "</style>\n",
       "<table border=\"1\" class=\"dataframe\">\n",
       "  <thead>\n",
       "    <tr style=\"text-align: right;\">\n",
       "      <th></th>\n",
       "      <th>group</th>\n",
       "      <th>hour</th>\n",
       "    </tr>\n",
       "  </thead>\n",
       "  <tbody>\n",
       "    <tr>\n",
       "      <th>0</th>\n",
       "      <td>0.0</td>\n",
       "      <td>27.0</td>\n",
       "    </tr>\n",
       "    <tr>\n",
       "      <th>1</th>\n",
       "      <td>1.0</td>\n",
       "      <td>24.0</td>\n",
       "    </tr>\n",
       "    <tr>\n",
       "      <th>2</th>\n",
       "      <td>2.0</td>\n",
       "      <td>26.0</td>\n",
       "    </tr>\n",
       "    <tr>\n",
       "      <th>3</th>\n",
       "      <td>3.0</td>\n",
       "      <td>24.0</td>\n",
       "    </tr>\n",
       "    <tr>\n",
       "      <th>4</th>\n",
       "      <td>4.0</td>\n",
       "      <td>24.0</td>\n",
       "    </tr>\n",
       "  </tbody>\n",
       "</table>\n",
       "</div>"
      ],
      "text/plain": [
       "   group  hour\n",
       "0    0.0  27.0\n",
       "1    1.0  24.0\n",
       "2    2.0  26.0\n",
       "3    3.0  24.0\n",
       "4    4.0  24.0"
      ]
     },
     "execution_count": 13,
     "metadata": {},
     "output_type": "execute_result"
    }
   ],
   "source": [
    "gh=df.groupby('group')['hour'].max().reset_index()\n",
    "gh.head()"
   ]
  },
  {
   "cell_type": "code",
   "execution_count": 14,
   "id": "f8f6f587",
   "metadata": {},
   "outputs": [
    {
     "data": {
      "text/plain": [
       "[0.0, 1.0, 2.0, 3.0, 4.0, 5.0, 6.0, 7.0, 8.0, 11.0]"
      ]
     },
     "execution_count": 14,
     "metadata": {},
     "output_type": "execute_result"
    }
   ],
   "source": [
    "gh[gh['hour']>15]['group'].to_list()"
   ]
  },
  {
   "cell_type": "code",
   "execution_count": 15,
   "id": "fc8284e3",
   "metadata": {},
   "outputs": [],
   "source": [
    "df.reset_index(drop=True,inplace=True)"
   ]
  },
  {
   "cell_type": "code",
   "execution_count": 16,
   "id": "7e4c5d6c",
   "metadata": {},
   "outputs": [],
   "source": [
    "#separate all groups with hour greater than 15\n",
    "df1=df[df['group'].isin(gh[gh['hour']>15]['group'].to_list())]\n",
    "df2=df[df['group'].isin(gh[gh['hour']<=15]['group'].to_list())]"
   ]
  },
  {
   "cell_type": "code",
   "execution_count": 17,
   "id": "b544bda9",
   "metadata": {},
   "outputs": [],
   "source": [
    "def getXY(df,l1,l2):\n",
    "    X=df.iloc[:,0:-2].values\n",
    "    y=df.iloc[:,-2].values\n",
    "    y=np.where(( y>0) & (y<=l1), 0, y)\n",
    "    y=np.where(( y>l1) & (y<=l2), 1, y)\n",
    "    y=np.where(y >l2,2,y)\n",
    "    groups=df.iloc[:,-1].values\n",
    "    return X,y,groups"
   ]
  },
  {
   "cell_type": "code",
   "execution_count": 18,
   "id": "6f4c698a",
   "metadata": {},
   "outputs": [],
   "source": [
    "X1,y1,g1=getXY(df1,8,16)\n",
    "X2,y2,g2=getXY(df2,5,10)\n",
    "X=np.concatenate((X1,X2))\n",
    "y=np.concatenate((y1,y2))\n",
    "groups=np.concatenate((g1,g2))"
   ]
  },
  {
   "cell_type": "markdown",
   "id": "593fe936",
   "metadata": {},
   "source": [
    "# EDA"
   ]
  },
  {
   "cell_type": "code",
   "execution_count": 19,
   "id": "6d491228",
   "metadata": {},
   "outputs": [
    {
     "name": "stdout",
     "output_type": "stream",
     "text": [
      "{0.0: 6736, 1.0: 6281, 2.0: 5147}\n"
     ]
    }
   ],
   "source": [
    "unique, counts = np.unique(y, return_counts=True)\n",
    "print(dict(zip(unique, counts)))"
   ]
  },
  {
   "cell_type": "code",
   "execution_count": 20,
   "id": "2b6ed6ec",
   "metadata": {},
   "outputs": [
    {
     "data": {
      "text/html": [
       "<div>\n",
       "<style scoped>\n",
       "    .dataframe tbody tr th:only-of-type {\n",
       "        vertical-align: middle;\n",
       "    }\n",
       "\n",
       "    .dataframe tbody tr th {\n",
       "        vertical-align: top;\n",
       "    }\n",
       "\n",
       "    .dataframe thead th {\n",
       "        text-align: right;\n",
       "    }\n",
       "</style>\n",
       "<table border=\"1\" class=\"dataframe\">\n",
       "  <thead>\n",
       "    <tr style=\"text-align: right;\">\n",
       "      <th></th>\n",
       "      <th>mq135</th>\n",
       "      <th>mq2</th>\n",
       "      <th>mq3</th>\n",
       "      <th>mq6</th>\n",
       "      <th>mq7</th>\n",
       "      <th>mq9</th>\n",
       "      <th>humidity</th>\n",
       "      <th>label</th>\n",
       "    </tr>\n",
       "  </thead>\n",
       "  <tbody>\n",
       "    <tr>\n",
       "      <th>0</th>\n",
       "      <td>39.750000</td>\n",
       "      <td>33.333333</td>\n",
       "      <td>29.000000</td>\n",
       "      <td>22.916667</td>\n",
       "      <td>10.000000</td>\n",
       "      <td>42.250000</td>\n",
       "      <td>0.516667</td>\n",
       "      <td>0.0</td>\n",
       "    </tr>\n",
       "    <tr>\n",
       "      <th>1</th>\n",
       "      <td>47.083333</td>\n",
       "      <td>43.000000</td>\n",
       "      <td>38.916667</td>\n",
       "      <td>29.833333</td>\n",
       "      <td>14.583333</td>\n",
       "      <td>49.416667</td>\n",
       "      <td>0.841667</td>\n",
       "      <td>0.0</td>\n",
       "    </tr>\n",
       "    <tr>\n",
       "      <th>2</th>\n",
       "      <td>52.416667</td>\n",
       "      <td>48.833333</td>\n",
       "      <td>47.833333</td>\n",
       "      <td>34.000000</td>\n",
       "      <td>17.666667</td>\n",
       "      <td>53.166667</td>\n",
       "      <td>1.025000</td>\n",
       "      <td>0.0</td>\n",
       "    </tr>\n",
       "    <tr>\n",
       "      <th>3</th>\n",
       "      <td>56.583333</td>\n",
       "      <td>52.416667</td>\n",
       "      <td>55.333333</td>\n",
       "      <td>37.166667</td>\n",
       "      <td>19.416667</td>\n",
       "      <td>54.916667</td>\n",
       "      <td>1.200000</td>\n",
       "      <td>0.0</td>\n",
       "    </tr>\n",
       "    <tr>\n",
       "      <th>4</th>\n",
       "      <td>57.583333</td>\n",
       "      <td>52.166667</td>\n",
       "      <td>58.000000</td>\n",
       "      <td>39.333333</td>\n",
       "      <td>20.750000</td>\n",
       "      <td>55.916667</td>\n",
       "      <td>1.391667</td>\n",
       "      <td>0.0</td>\n",
       "    </tr>\n",
       "  </tbody>\n",
       "</table>\n",
       "</div>"
      ],
      "text/plain": [
       "       mq135        mq2        mq3        mq6        mq7        mq9  humidity  \\\n",
       "0  39.750000  33.333333  29.000000  22.916667  10.000000  42.250000  0.516667   \n",
       "1  47.083333  43.000000  38.916667  29.833333  14.583333  49.416667  0.841667   \n",
       "2  52.416667  48.833333  47.833333  34.000000  17.666667  53.166667  1.025000   \n",
       "3  56.583333  52.416667  55.333333  37.166667  19.416667  54.916667  1.200000   \n",
       "4  57.583333  52.166667  58.000000  39.333333  20.750000  55.916667  1.391667   \n",
       "\n",
       "   label  \n",
       "0    0.0  \n",
       "1    0.0  \n",
       "2    0.0  \n",
       "3    0.0  \n",
       "4    0.0  "
      ]
     },
     "execution_count": 20,
     "metadata": {},
     "output_type": "execute_result"
    }
   ],
   "source": [
    "stat_df=pd.concat((pd.DataFrame(X),pd.DataFrame(y)),axis=1)\n",
    "stat_df.columns=['mq135','mq2','mq3','mq6','mq7','mq9','humidity','label']\n",
    "stat_df.head()"
   ]
  },
  {
   "cell_type": "code",
   "execution_count": 21,
   "id": "edb0a934",
   "metadata": {},
   "outputs": [
    {
     "data": {
      "text/html": [
       "<div>\n",
       "<style scoped>\n",
       "    .dataframe tbody tr th:only-of-type {\n",
       "        vertical-align: middle;\n",
       "    }\n",
       "\n",
       "    .dataframe tbody tr th {\n",
       "        vertical-align: top;\n",
       "    }\n",
       "\n",
       "    .dataframe thead th {\n",
       "        text-align: right;\n",
       "    }\n",
       "</style>\n",
       "<table border=\"1\" class=\"dataframe\">\n",
       "  <thead>\n",
       "    <tr style=\"text-align: right;\">\n",
       "      <th></th>\n",
       "      <th>level_0</th>\n",
       "      <th>level_1</th>\n",
       "      <th>label</th>\n",
       "      <th>0</th>\n",
       "    </tr>\n",
       "  </thead>\n",
       "  <tbody>\n",
       "    <tr>\n",
       "      <th>0</th>\n",
       "      <td>mq135</td>\n",
       "      <td>count</td>\n",
       "      <td>Fresh</td>\n",
       "      <td>6736.000000</td>\n",
       "    </tr>\n",
       "    <tr>\n",
       "      <th>1</th>\n",
       "      <td>mq135</td>\n",
       "      <td>count</td>\n",
       "      <td>Semi-Fresh</td>\n",
       "      <td>6281.000000</td>\n",
       "    </tr>\n",
       "    <tr>\n",
       "      <th>2</th>\n",
       "      <td>mq135</td>\n",
       "      <td>count</td>\n",
       "      <td>Spoiled</td>\n",
       "      <td>5147.000000</td>\n",
       "    </tr>\n",
       "    <tr>\n",
       "      <th>3</th>\n",
       "      <td>mq135</td>\n",
       "      <td>mean</td>\n",
       "      <td>Fresh</td>\n",
       "      <td>40.804582</td>\n",
       "    </tr>\n",
       "    <tr>\n",
       "      <th>4</th>\n",
       "      <td>mq135</td>\n",
       "      <td>mean</td>\n",
       "      <td>Semi-Fresh</td>\n",
       "      <td>238.739413</td>\n",
       "    </tr>\n",
       "    <tr>\n",
       "      <th>...</th>\n",
       "      <td>...</td>\n",
       "      <td>...</td>\n",
       "      <td>...</td>\n",
       "      <td>...</td>\n",
       "    </tr>\n",
       "    <tr>\n",
       "      <th>163</th>\n",
       "      <td>humidity</td>\n",
       "      <td>75%</td>\n",
       "      <td>Semi-Fresh</td>\n",
       "      <td>0.700000</td>\n",
       "    </tr>\n",
       "    <tr>\n",
       "      <th>164</th>\n",
       "      <td>humidity</td>\n",
       "      <td>75%</td>\n",
       "      <td>Spoiled</td>\n",
       "      <td>0.891667</td>\n",
       "    </tr>\n",
       "    <tr>\n",
       "      <th>165</th>\n",
       "      <td>humidity</td>\n",
       "      <td>max</td>\n",
       "      <td>Fresh</td>\n",
       "      <td>3.441667</td>\n",
       "    </tr>\n",
       "    <tr>\n",
       "      <th>166</th>\n",
       "      <td>humidity</td>\n",
       "      <td>max</td>\n",
       "      <td>Semi-Fresh</td>\n",
       "      <td>3.441667</td>\n",
       "    </tr>\n",
       "    <tr>\n",
       "      <th>167</th>\n",
       "      <td>humidity</td>\n",
       "      <td>max</td>\n",
       "      <td>Spoiled</td>\n",
       "      <td>3.458333</td>\n",
       "    </tr>\n",
       "  </tbody>\n",
       "</table>\n",
       "<p>168 rows × 4 columns</p>\n",
       "</div>"
      ],
      "text/plain": [
       "      level_0 level_1       label            0\n",
       "0       mq135   count       Fresh  6736.000000\n",
       "1       mq135   count  Semi-Fresh  6281.000000\n",
       "2       mq135   count     Spoiled  5147.000000\n",
       "3       mq135    mean       Fresh    40.804582\n",
       "4       mq135    mean  Semi-Fresh   238.739413\n",
       "..        ...     ...         ...          ...\n",
       "163  humidity     75%  Semi-Fresh     0.700000\n",
       "164  humidity     75%     Spoiled     0.891667\n",
       "165  humidity     max       Fresh     3.441667\n",
       "166  humidity     max  Semi-Fresh     3.441667\n",
       "167  humidity     max     Spoiled     3.458333\n",
       "\n",
       "[168 rows x 4 columns]"
      ]
     },
     "execution_count": 21,
     "metadata": {},
     "output_type": "execute_result"
    }
   ],
   "source": [
    "stat_dfx=stat_df.groupby('label').describe().unstack(1).reset_index()\n",
    "stat_dfx.label=stat_dfx.label.map({0:'Fresh',1:\"Semi-Fresh\",2:\"Spoiled\"})\n",
    "\n",
    "stat_dfx"
   ]
  },
  {
   "cell_type": "code",
   "execution_count": 22,
   "id": "4e0aed53",
   "metadata": {},
   "outputs": [
    {
     "data": {
      "text/html": [
       "<div>\n",
       "<style scoped>\n",
       "    .dataframe tbody tr th:only-of-type {\n",
       "        vertical-align: middle;\n",
       "    }\n",
       "\n",
       "    .dataframe tbody tr th {\n",
       "        vertical-align: top;\n",
       "    }\n",
       "\n",
       "    .dataframe thead th {\n",
       "        text-align: right;\n",
       "    }\n",
       "</style>\n",
       "<table border=\"1\" class=\"dataframe\">\n",
       "  <thead>\n",
       "    <tr style=\"text-align: right;\">\n",
       "      <th></th>\n",
       "      <th>level_0</th>\n",
       "      <th>level_1</th>\n",
       "      <th>label</th>\n",
       "      <th>0</th>\n",
       "    </tr>\n",
       "  </thead>\n",
       "  <tbody>\n",
       "    <tr>\n",
       "      <th>144</th>\n",
       "      <td>humidity</td>\n",
       "      <td>count</td>\n",
       "      <td>Fresh</td>\n",
       "      <td>6736.000000</td>\n",
       "    </tr>\n",
       "    <tr>\n",
       "      <th>145</th>\n",
       "      <td>humidity</td>\n",
       "      <td>count</td>\n",
       "      <td>Semi-Fresh</td>\n",
       "      <td>6281.000000</td>\n",
       "    </tr>\n",
       "    <tr>\n",
       "      <th>146</th>\n",
       "      <td>humidity</td>\n",
       "      <td>count</td>\n",
       "      <td>Spoiled</td>\n",
       "      <td>5147.000000</td>\n",
       "    </tr>\n",
       "    <tr>\n",
       "      <th>147</th>\n",
       "      <td>humidity</td>\n",
       "      <td>mean</td>\n",
       "      <td>Fresh</td>\n",
       "      <td>0.358304</td>\n",
       "    </tr>\n",
       "    <tr>\n",
       "      <th>148</th>\n",
       "      <td>humidity</td>\n",
       "      <td>mean</td>\n",
       "      <td>Semi-Fresh</td>\n",
       "      <td>0.473087</td>\n",
       "    </tr>\n",
       "    <tr>\n",
       "      <th>149</th>\n",
       "      <td>humidity</td>\n",
       "      <td>mean</td>\n",
       "      <td>Spoiled</td>\n",
       "      <td>0.589159</td>\n",
       "    </tr>\n",
       "    <tr>\n",
       "      <th>150</th>\n",
       "      <td>humidity</td>\n",
       "      <td>std</td>\n",
       "      <td>Fresh</td>\n",
       "      <td>0.871932</td>\n",
       "    </tr>\n",
       "    <tr>\n",
       "      <th>151</th>\n",
       "      <td>humidity</td>\n",
       "      <td>std</td>\n",
       "      <td>Semi-Fresh</td>\n",
       "      <td>0.953047</td>\n",
       "    </tr>\n",
       "    <tr>\n",
       "      <th>152</th>\n",
       "      <td>humidity</td>\n",
       "      <td>std</td>\n",
       "      <td>Spoiled</td>\n",
       "      <td>1.126042</td>\n",
       "    </tr>\n",
       "    <tr>\n",
       "      <th>153</th>\n",
       "      <td>humidity</td>\n",
       "      <td>min</td>\n",
       "      <td>Fresh</td>\n",
       "      <td>-1.075000</td>\n",
       "    </tr>\n",
       "    <tr>\n",
       "      <th>154</th>\n",
       "      <td>humidity</td>\n",
       "      <td>min</td>\n",
       "      <td>Semi-Fresh</td>\n",
       "      <td>-0.883333</td>\n",
       "    </tr>\n",
       "    <tr>\n",
       "      <th>155</th>\n",
       "      <td>humidity</td>\n",
       "      <td>min</td>\n",
       "      <td>Spoiled</td>\n",
       "      <td>-1.075000</td>\n",
       "    </tr>\n",
       "    <tr>\n",
       "      <th>156</th>\n",
       "      <td>humidity</td>\n",
       "      <td>25%</td>\n",
       "      <td>Fresh</td>\n",
       "      <td>-0.041667</td>\n",
       "    </tr>\n",
       "    <tr>\n",
       "      <th>157</th>\n",
       "      <td>humidity</td>\n",
       "      <td>25%</td>\n",
       "      <td>Semi-Fresh</td>\n",
       "      <td>-0.016667</td>\n",
       "    </tr>\n",
       "    <tr>\n",
       "      <th>158</th>\n",
       "      <td>humidity</td>\n",
       "      <td>25%</td>\n",
       "      <td>Spoiled</td>\n",
       "      <td>-0.175000</td>\n",
       "    </tr>\n",
       "    <tr>\n",
       "      <th>159</th>\n",
       "      <td>humidity</td>\n",
       "      <td>50%</td>\n",
       "      <td>Fresh</td>\n",
       "      <td>0.291667</td>\n",
       "    </tr>\n",
       "    <tr>\n",
       "      <th>160</th>\n",
       "      <td>humidity</td>\n",
       "      <td>50%</td>\n",
       "      <td>Semi-Fresh</td>\n",
       "      <td>0.350000</td>\n",
       "    </tr>\n",
       "    <tr>\n",
       "      <th>161</th>\n",
       "      <td>humidity</td>\n",
       "      <td>50%</td>\n",
       "      <td>Spoiled</td>\n",
       "      <td>0.433333</td>\n",
       "    </tr>\n",
       "    <tr>\n",
       "      <th>162</th>\n",
       "      <td>humidity</td>\n",
       "      <td>75%</td>\n",
       "      <td>Fresh</td>\n",
       "      <td>0.600000</td>\n",
       "    </tr>\n",
       "    <tr>\n",
       "      <th>163</th>\n",
       "      <td>humidity</td>\n",
       "      <td>75%</td>\n",
       "      <td>Semi-Fresh</td>\n",
       "      <td>0.700000</td>\n",
       "    </tr>\n",
       "    <tr>\n",
       "      <th>164</th>\n",
       "      <td>humidity</td>\n",
       "      <td>75%</td>\n",
       "      <td>Spoiled</td>\n",
       "      <td>0.891667</td>\n",
       "    </tr>\n",
       "    <tr>\n",
       "      <th>165</th>\n",
       "      <td>humidity</td>\n",
       "      <td>max</td>\n",
       "      <td>Fresh</td>\n",
       "      <td>3.441667</td>\n",
       "    </tr>\n",
       "    <tr>\n",
       "      <th>166</th>\n",
       "      <td>humidity</td>\n",
       "      <td>max</td>\n",
       "      <td>Semi-Fresh</td>\n",
       "      <td>3.441667</td>\n",
       "    </tr>\n",
       "    <tr>\n",
       "      <th>167</th>\n",
       "      <td>humidity</td>\n",
       "      <td>max</td>\n",
       "      <td>Spoiled</td>\n",
       "      <td>3.458333</td>\n",
       "    </tr>\n",
       "  </tbody>\n",
       "</table>\n",
       "</div>"
      ],
      "text/plain": [
       "      level_0 level_1       label            0\n",
       "144  humidity   count       Fresh  6736.000000\n",
       "145  humidity   count  Semi-Fresh  6281.000000\n",
       "146  humidity   count     Spoiled  5147.000000\n",
       "147  humidity    mean       Fresh     0.358304\n",
       "148  humidity    mean  Semi-Fresh     0.473087\n",
       "149  humidity    mean     Spoiled     0.589159\n",
       "150  humidity     std       Fresh     0.871932\n",
       "151  humidity     std  Semi-Fresh     0.953047\n",
       "152  humidity     std     Spoiled     1.126042\n",
       "153  humidity     min       Fresh    -1.075000\n",
       "154  humidity     min  Semi-Fresh    -0.883333\n",
       "155  humidity     min     Spoiled    -1.075000\n",
       "156  humidity     25%       Fresh    -0.041667\n",
       "157  humidity     25%  Semi-Fresh    -0.016667\n",
       "158  humidity     25%     Spoiled    -0.175000\n",
       "159  humidity     50%       Fresh     0.291667\n",
       "160  humidity     50%  Semi-Fresh     0.350000\n",
       "161  humidity     50%     Spoiled     0.433333\n",
       "162  humidity     75%       Fresh     0.600000\n",
       "163  humidity     75%  Semi-Fresh     0.700000\n",
       "164  humidity     75%     Spoiled     0.891667\n",
       "165  humidity     max       Fresh     3.441667\n",
       "166  humidity     max  Semi-Fresh     3.441667\n",
       "167  humidity     max     Spoiled     3.458333"
      ]
     },
     "execution_count": 22,
     "metadata": {},
     "output_type": "execute_result"
    }
   ],
   "source": [
    "stat_dfx[stat_dfx['level_0']=='humidity']"
   ]
  },
  {
   "cell_type": "code",
   "execution_count": 23,
   "id": "5ef24fe4",
   "metadata": {},
   "outputs": [
    {
     "data": {
      "text/plain": [
       "count    21\n",
       "mean     21\n",
       "std      21\n",
       "min      21\n",
       "25%      21\n",
       "50%      21\n",
       "75%      21\n",
       "max      21\n",
       "Name: level_1, dtype: int64"
      ]
     },
     "execution_count": 23,
     "metadata": {},
     "output_type": "execute_result"
    }
   ],
   "source": [
    "stat_dfx.level_1.value_counts()"
   ]
  },
  {
   "cell_type": "markdown",
   "id": "dff92ef3",
   "metadata": {},
   "source": [
    "# Stat Analysis"
   ]
  },
  {
   "cell_type": "code",
   "execution_count": 24,
   "id": "6f385b27",
   "metadata": {},
   "outputs": [
    {
     "name": "stderr",
     "output_type": "stream",
     "text": [
      "/tmp/ipykernel_69718/967936176.py:3: SettingWithCopyWarning: \n",
      "A value is trying to be set on a copy of a slice from a DataFrame\n",
      "\n",
      "See the caveats in the documentation: https://pandas.pydata.org/pandas-docs/stable/user_guide/indexing.html#returning-a-view-versus-a-copy\n",
      "  mean_df.drop(['stat'],axis=1,inplace=True)\n",
      "/tmp/ipykernel_69718/967936176.py:4: SettingWithCopyWarning: \n",
      "A value is trying to be set on a copy of a slice from a DataFrame.\n",
      "Try using .loc[row_indexer,col_indexer] = value instead\n",
      "\n",
      "See the caveats in the documentation: https://pandas.pydata.org/pandas-docs/stable/user_guide/indexing.html#returning-a-view-versus-a-copy\n",
      "  mean_df['mean']=mean_df['mean'].round(0).astype(int)\n"
     ]
    },
    {
     "data": {
      "text/plain": [
       "Text(0.5, 1.0, 'MQ Gas sensors average response in all three classes')"
      ]
     },
     "execution_count": 24,
     "metadata": {},
     "output_type": "execute_result"
    },
    {
     "data": {
      "image/png": "[encoded data removed]",
      "text/plain": [
       "<Figure size 432x288 with 1 Axes>"
      ]
     },
     "metadata": {
      "needs_background": "light"
     },
     "output_type": "display_data"
    }
   ],
   "source": [
    "mean_df=stat_dfx[stat_dfx.level_1.isin(['mean'])]\n",
    "mean_df.columns=['sensor','stat','class','mean']\n",
    "mean_df.drop(['stat'],axis=1,inplace=True)\n",
    "mean_df['mean']=mean_df['mean'].round(0).astype(int)\n",
    "mean_df.reset_index(inplace=True,drop=True)\n",
    "\n",
    "(mean_df.groupby(['sensor', 'class'])['mean'].sum()\n",
    " .unstack()\n",
    " .plot(kind='bar', stacked=False))\n",
    "plt.title(\"MQ Gas sensors average response in all three classes\")"
   ]
  },
  {
   "cell_type": "code",
   "execution_count": 25,
   "id": "ee8ea1de",
   "metadata": {},
   "outputs": [
    {
     "name": "stdout",
     "output_type": "stream",
     "text": [
      "F_onewayResult(statistic=6625.783548892957, pvalue=0.0)\n",
      "F_onewayResult(statistic=8475.58343144917, pvalue=0.0)\n",
      "F_onewayResult(statistic=12153.772742865416, pvalue=0.0)\n",
      "F_onewayResult(statistic=6137.344618001988, pvalue=0.0)\n",
      "F_onewayResult(statistic=4472.0300679272905, pvalue=0.0)\n",
      "F_onewayResult(statistic=7260.235498387436, pvalue=0.0)\n",
      "F_onewayResult(statistic=81.85334871252935, pvalue=4.0813723994766896e-36)\n"
     ]
    }
   ],
   "source": [
    "from scipy.stats import f_oneway\n",
    "for c in list(stat_df.columns)[0:-1]:\n",
    "    res=f_oneway(stat_df[stat_df['label']==0][c], stat_df[stat_df['label']==1][c], stat_df[stat_df['label']==2][c])\n",
    "    print(res)"
   ]
  },
  {
   "cell_type": "code",
   "execution_count": 26,
   "id": "7b4280ec",
   "metadata": {},
   "outputs": [
    {
     "data": {
      "text/plain": [
       "Index(['mq135', 'mq2', 'mq3', 'mq6', 'mq7', 'mq9', 'humidity', 'label'], dtype='object')"
      ]
     },
     "execution_count": 26,
     "metadata": {},
     "output_type": "execute_result"
    }
   ],
   "source": [
    "stat_df.columns"
   ]
  },
  {
   "cell_type": "code",
   "execution_count": 27,
   "id": "2dd8be19",
   "metadata": {},
   "outputs": [
    {
     "name": "stdout",
     "output_type": "stream",
     "text": [
      "                    Multivariate linear model\n",
      "=================================================================\n",
      "                                                                 \n",
      "-----------------------------------------------------------------\n",
      "        Intercept        Value  Num DF   Den DF   F Value  Pr > F\n",
      "-----------------------------------------------------------------\n",
      "           Wilks' lambda 0.7814 6.0000 18157.0000 846.3608 0.0000\n",
      "          Pillai's trace 0.2186 6.0000 18157.0000 846.3608 0.0000\n",
      "  Hotelling-Lawley trace 0.2797 6.0000 18157.0000 846.3608 0.0000\n",
      "     Roy's greatest root 0.2797 6.0000 18157.0000 846.3608 0.0000\n",
      "-----------------------------------------------------------------\n",
      "                                                                 \n",
      "-----------------------------------------------------------------\n",
      "         label          Value  Num DF   Den DF    F Value  Pr > F\n",
      "-----------------------------------------------------------------\n",
      "          Wilks' lambda 0.4122 6.0000 18157.0000 4315.7078 0.0000\n",
      "         Pillai's trace 0.5878 6.0000 18157.0000 4315.7078 0.0000\n",
      " Hotelling-Lawley trace 1.4261 6.0000 18157.0000 4315.7078 0.0000\n",
      "    Roy's greatest root 1.4261 6.0000 18157.0000 4315.7078 0.0000\n",
      "=================================================================\n",
      "\n"
     ]
    }
   ],
   "source": [
    "from statsmodels.multivariate.manova import MANOVA\n",
    "maov = MANOVA.from_formula('mq135 + mq2 + mq3+\\\n",
    "                            mq6 + mq7  +mq9 ~ label', data=stat_df)\n",
    "print(maov.mv_test())"
   ]
  },
  {
   "cell_type": "markdown",
   "id": "0dcd1a50",
   "metadata": {},
   "source": [
    "# Machine learning "
   ]
  },
  {
   "cell_type": "code",
   "execution_count": 28,
   "id": "8fc0a1bd",
   "metadata": {},
   "outputs": [],
   "source": [
    "from sklearn.model_selection import GridSearchCV,RandomizedSearchCV,\\\n",
    "cross_validate,cross_val_score,KFold,StratifiedKFold\n",
    "from sklearn.pipeline import Pipeline\n",
    "from sklearn.feature_selection import RFE\n",
    "from sklearn.tree import DecisionTreeClassifier\n",
    "from sklearn.metrics import classification_report\n",
    "from sklearn.metrics import f1_score, make_scorer,roc_auc_score\n",
    "from sklearn.decomposition import PCA\n",
    "scoring=[ 'precision_macro','recall_macro','f1_macro','accuracy']\n"
   ]
  },
  {
   "cell_type": "markdown",
   "id": "9f4eec14",
   "metadata": {},
   "source": [
    "## Random Split"
   ]
  },
  {
   "cell_type": "code",
   "execution_count": 29,
   "id": "7c97ca7a",
   "metadata": {},
   "outputs": [],
   "source": [
    "from sklearn.model_selection import train_test_split\n",
    "X_train,X_test,y_train,y_test=train_test_split(X,y,test_size=0.2)"
   ]
  },
  {
   "cell_type": "code",
   "execution_count": 30,
   "id": "cf0aeb81",
   "metadata": {},
   "outputs": [
    {
     "data": {
      "text/plain": [
       "(18164, 7)"
      ]
     },
     "execution_count": 30,
     "metadata": {},
     "output_type": "execute_result"
    }
   ],
   "source": [
    "X.shape"
   ]
  },
  {
   "cell_type": "code",
   "execution_count": 31,
   "id": "17d9d96b",
   "metadata": {},
   "outputs": [],
   "source": [
    "clf=SVC(random_state=0)\n",
    "\n",
    "scaling=StandardScaler()\n",
    "pipe = Pipeline(steps=[('sc',scaling), ('clf', clf)])\n",
    "pipe.fit(X_train,y_train)\n",
    "pred=pipe.predict(X_test)"
   ]
  },
  {
   "cell_type": "code",
   "execution_count": 32,
   "id": "0437518d",
   "metadata": {},
   "outputs": [
    {
     "data": {
      "text/plain": [
       "array([0., 0., 1., ..., 2., 1., 1.])"
      ]
     },
     "execution_count": 32,
     "metadata": {},
     "output_type": "execute_result"
    }
   ],
   "source": [
    "pred"
   ]
  },
  {
   "cell_type": "code",
   "execution_count": 33,
   "id": "baa8ecd6",
   "metadata": {},
   "outputs": [
    {
     "name": "stdout",
     "output_type": "stream",
     "text": [
      "              precision    recall  f1-score   support\n",
      "\n",
      "       Fresh       0.92      0.92      0.92      1358\n",
      "   SemiFresh       0.82      0.87      0.84      1262\n",
      "     Spoiled       0.94      0.87      0.90      1013\n",
      "\n",
      "    accuracy                           0.89      3633\n",
      "   macro avg       0.89      0.89      0.89      3633\n",
      "weighted avg       0.89      0.89      0.89      3633\n",
      "\n"
     ]
    }
   ],
   "source": [
    "print(classification_report(y_test,pred,target_names=['Fresh','SemiFresh','Spoiled']))"
   ]
  },
  {
   "cell_type": "code",
   "execution_count": 34,
   "id": "c8df1b64",
   "metadata": {},
   "outputs": [
    {
     "name": "stdout",
     "output_type": "stream",
     "text": [
      "              precision    recall  f1-score   support\n",
      "\n",
      "       Fresh       0.94      0.91      0.92      1392\n",
      "   SemiFresh       0.86      0.85      0.85      1263\n",
      "     Spoiled       0.90      0.95      0.92       978\n",
      "\n",
      "    accuracy                           0.90      3633\n",
      "   macro avg       0.90      0.90      0.90      3633\n",
      "weighted avg       0.90      0.90      0.90      3633\n",
      "\n",
      "              precision    recall  f1-score   support\n",
      "\n",
      "       Fresh       0.91      0.91      0.91      1344\n",
      "   SemiFresh       0.86      0.81      0.84      1325\n",
      "     Spoiled       0.88      0.94      0.91       964\n",
      "\n",
      "    accuracy                           0.88      3633\n",
      "   macro avg       0.88      0.89      0.89      3633\n",
      "weighted avg       0.88      0.88      0.88      3633\n",
      "\n",
      "              precision    recall  f1-score   support\n",
      "\n",
      "       Fresh       0.93      0.92      0.92      1353\n",
      "   SemiFresh       0.89      0.83      0.86      1339\n",
      "     Spoiled       0.88      0.96      0.92       941\n",
      "\n",
      "    accuracy                           0.90      3633\n",
      "   macro avg       0.90      0.90      0.90      3633\n",
      "weighted avg       0.90      0.90      0.90      3633\n",
      "\n",
      "              precision    recall  f1-score   support\n",
      "\n",
      "       Fresh       0.92      0.92      0.92      1356\n",
      "   SemiFresh       0.87      0.83      0.85      1327\n",
      "     Spoiled       0.88      0.95      0.91       950\n",
      "\n",
      "    accuracy                           0.89      3633\n",
      "   macro avg       0.89      0.90      0.89      3633\n",
      "weighted avg       0.89      0.89      0.89      3633\n",
      "\n",
      "              precision    recall  f1-score   support\n",
      "\n",
      "       Fresh       0.92      0.91      0.92      1364\n",
      "   SemiFresh       0.85      0.83      0.84      1281\n",
      "     Spoiled       0.89      0.93      0.91       987\n",
      "\n",
      "    accuracy                           0.89      3632\n",
      "   macro avg       0.89      0.89      0.89      3632\n",
      "weighted avg       0.89      0.89      0.89      3632\n",
      "\n"
     ]
    }
   ],
   "source": [
    "for train, test in StratifiedKFold(5,shuffle=True).split(X,y):\n",
    "    X_train,X_test=X[train],X[test]\n",
    "    y_train,y_test=y[train],y[test]\n",
    "    clf=SVC()\n",
    "    scaling=StandardScaler()\n",
    "    pipe = Pipeline(steps=[('sc',scaling), ('clf', clf)])\n",
    "    pipe.fit(X_train,y_train)\n",
    "    pred=pipe.predict(X_test)\n",
    "    print(classification_report(pred,y_test,target_names=['Fresh','SemiFresh','Spoiled']))"
   ]
  },
  {
   "cell_type": "code",
   "execution_count": 35,
   "id": "d3119523",
   "metadata": {},
   "outputs": [],
   "source": [
    "pipe = Pipeline(steps=[('sc',scaling), ('clf', clf)])\n",
    "cv=cross_validate(pipe,X,y,cv=5,n_jobs=-1)\n",
    "# mean=[np.mean(cv[i]).round(2) for i in cv][2::]\n",
    "# std=[np.std(cv[i]).round(2) for i in cv][2::]\n",
    "# mean,std"
   ]
  },
  {
   "cell_type": "code",
   "execution_count": 36,
   "id": "c2704274",
   "metadata": {},
   "outputs": [
    {
     "data": {
      "text/plain": [
       "array([0.49408203, 0.62730526, 0.78062208, 0.552436  , 0.79680617])"
      ]
     },
     "execution_count": 36,
     "metadata": {},
     "output_type": "execute_result"
    }
   ],
   "source": [
    "cross_val_score(pipe,X,y,cv=5)"
   ]
  },
  {
   "cell_type": "markdown",
   "id": "e6f223f1",
   "metadata": {},
   "source": [
    "# Baseline"
   ]
  },
  {
   "cell_type": "code",
   "execution_count": null,
   "id": "d5a099ce",
   "metadata": {},
   "outputs": [],
   "source": []
  },
  {
   "cell_type": "markdown",
   "id": "0dabdc57",
   "metadata": {},
   "source": [
    "# Baseline"
   ]
  },
  {
   "cell_type": "code",
   "execution_count": 37,
   "id": "aa4f76e1",
   "metadata": {},
   "outputs": [
    {
     "name": "stdout",
     "output_type": "stream",
     "text": [
      "CPU times: user 9.59 ms, sys: 1.08 ms, total: 10.7 ms\n",
      "Wall time: 1.84 s\n"
     ]
    },
    {
     "data": {
      "text/plain": [
       "{'fit_time': array([0.94536304, 1.07316065, 0.84240222, 1.1990521 , 1.16665506]),\n",
       " 'score_time': array([0.37647271, 0.42637658, 0.34174871, 0.47695088, 0.47294068]),\n",
       " 'test_precision_macro': array([0.70073638, 0.7346931 , 0.6445179 , 0.74856601, 0.67689096]),\n",
       " 'test_recall_macro': array([0.68718622, 0.64665508, 0.48645484, 0.73561172, 0.64035598]),\n",
       " 'test_f1_macro': array([0.66787937, 0.6124812 , 0.44393656, 0.70597856, 0.65066553]),\n",
       " 'test_accuracy': array([0.66216216, 0.61824231, 0.50881057, 0.73571622, 0.64592391])}"
      ]
     },
     "execution_count": 37,
     "metadata": {},
     "output_type": "execute_result"
    }
   ],
   "source": [
    "%%time\n",
    "clf= SVC(random_state=0)\n",
    "scaling=StandardScaler()\n",
    "pipe = Pipeline(steps=[('sc',scaling), ('clf', clf)])\n",
    "cv=cross_validate(pipe,X,y,groups=groups,cv=GroupKFold(5),n_jobs=-1,scoring=scoring)\n",
    "cv"
   ]
  },
  {
   "cell_type": "code",
   "execution_count": 38,
   "id": "3a8c6dd9",
   "metadata": {},
   "outputs": [],
   "source": [
    "results=[]"
   ]
  },
  {
   "cell_type": "code",
   "execution_count": 39,
   "id": "b11d4a88",
   "metadata": {},
   "outputs": [
    {
     "data": {
      "text/plain": [
       "([0.701, 0.639, 0.616, 0.634], [0.038, 0.084, 0.091, 0.074])"
      ]
     },
     "execution_count": 39,
     "metadata": {},
     "output_type": "execute_result"
    }
   ],
   "source": [
    "mean=[np.mean(cv[i]).round(3) for i in cv][2::]\n",
    "std=[np.std(cv[i]).round(3) for i in cv][2::]\n",
    "mean,std"
   ]
  },
  {
   "cell_type": "code",
   "execution_count": 41,
   "id": "14734093",
   "metadata": {},
   "outputs": [
    {
     "name": "stdout",
     "output_type": "stream",
     "text": [
      "{'clf__C': 50, 'clf__gamma': 0.001}\n",
      "0.7407020077873445\n"
     ]
    }
   ],
   "source": [
    "\n",
    "clf=SVC()\n",
    "scaling=StandardScaler()\n",
    "Cs = [ 0.1, 1, 10,15,20,25,30,40,50,60,70,100,120]\n",
    "gammas = [0.0001,0.0005,0.001,0.005,0.008, 0.01, 0.1,0.3,0.5, 1]\n",
    "param_grid = {'clf__C': Cs, 'clf__gamma' : gammas}\n",
    "\n",
    "pipe = Pipeline(steps=[('sc',scaling), ('clf', clf)])\n",
    "grid_search =GridSearchCV(pipe , param_grid,  cv=GroupKFold(5),n_jobs=-1,scoring=scoring,refit='f1_macro')\n",
    "grid_search.fit(X,y,groups=groups)\n",
    "print(grid_search.best_params_)\n",
    "print(grid_search.best_score_)"
   ]
  },
  {
   "cell_type": "code",
   "execution_count": 42,
   "id": "a919c32d",
   "metadata": {},
   "outputs": [
    {
     "data": {
      "text/plain": [
       "{'fit_time': array([1.28916478, 1.56332064, 1.50862265, 1.65790558, 1.52504396]),\n",
       " 'score_time': array([0.51965022, 0.56701636, 0.48048139, 0.61084366, 0.59660959]),\n",
       " 'test_precision_macro': array([0.83504733, 0.78677646, 0.66251599, 0.86811589, 0.80017045]),\n",
       " 'test_recall_macro': array([0.79678111, 0.75723159, 0.53492853, 0.8503787 , 0.80543827]),\n",
       " 'test_f1_macro': array([0.79779913, 0.7467523 , 0.50741439, 0.85275478, 0.79878944]),\n",
       " 'test_accuracy': array([0.78688063, 0.73967286, 0.56084802, 0.85458976, 0.80027174])}"
      ]
     },
     "execution_count": 42,
     "metadata": {},
     "output_type": "execute_result"
    }
   ],
   "source": [
    "pipe = grid_search.best_estimator_\n",
    "cv=cross_validate(pipe,X,y,groups=groups,cv=GroupKFold(5),n_jobs=-1,scoring=scoring)\n",
    "cv"
   ]
  },
  {
   "cell_type": "code",
   "execution_count": 43,
   "id": "1e083959",
   "metadata": {},
   "outputs": [
    {
     "data": {
      "text/plain": [
       "([0.791, 0.749, 0.741, 0.748], [0.07, 0.111, 0.121, 0.101])"
      ]
     },
     "execution_count": 43,
     "metadata": {},
     "output_type": "execute_result"
    }
   ],
   "source": [
    "mean=[np.mean(cv[i]).round(3) for i in cv][2::]\n",
    "std=[np.std(cv[i]).round(3) for i in cv][2::]\n",
    "mean,std"
   ]
  },
  {
   "cell_type": "markdown",
   "id": "4a799d46",
   "metadata": {},
   "source": [
    "# RFE"
   ]
  },
  {
   "cell_type": "code",
   "execution_count": 46,
   "id": "a0905cf2",
   "metadata": {},
   "outputs": [
    {
     "name": "stdout",
     "output_type": "stream",
     "text": [
      "{'clf__C': 1, 'clf__gamma': 0.1, 'rfe__n_features_to_select': 2, 'rfe__step': 1}\n",
      "0.7722277944316166\n",
      "CPU times: user 11.7 s, sys: 1.65 s, total: 13.4 s\n",
      "Wall time: 16min 51s\n"
     ]
    }
   ],
   "source": [
    "%%time\n",
    "clf=SVC(random_state=0)\n",
    "rfe=RFE(DecisionTreeClassifier(random_state=0))\n",
    "scaling=StandardScaler()\n",
    "n_features = [2,4,6]\n",
    "step=[1,2,3]\n",
    "param_grid = {'rfe__step':step,'rfe__n_features_to_select':n_features,\n",
    "                  'clf__C': Cs, 'clf__gamma' : gammas}\n",
    "\n",
    "pipe = Pipeline(steps=[('sc',scaling),('rfe', rfe), ('clf', clf)])\n",
    "grid_search =GridSearchCV(pipe , param_grid,  cv=GroupKFold(5),n_jobs=-1,scoring='f1_macro')\n",
    "grid_search.fit(X,y,groups=groups)\n",
    "print(grid_search.best_params_)\n",
    "print(grid_search.best_score_)"
   ]
  },
  {
   "cell_type": "code",
   "execution_count": 47,
   "id": "96bf973e",
   "metadata": {},
   "outputs": [
    {
     "data": {
      "text/plain": [
       "([0.822, 0.78, 0.772, 0.785], [0.065, 0.107, 0.113, 0.097])"
      ]
     },
     "execution_count": 47,
     "metadata": {},
     "output_type": "execute_result"
    }
   ],
   "source": [
    "pipe = grid_search.best_estimator_\n",
    "cv=cross_validate(pipe,X,y,groups=groups,cv=GroupKFold(5),n_jobs=-1,scoring=scoring)\n",
    "mean=[np.mean(cv[i]).round(3) for i in cv][2::]\n",
    "std=[np.std(cv[i]).round(3) for i in cv][2::]\n",
    "mean,std"
   ]
  },
  {
   "cell_type": "markdown",
   "id": "9dc7943a",
   "metadata": {},
   "source": [
    "# PCA"
   ]
  },
  {
   "cell_type": "code",
   "execution_count": 48,
   "id": "620549d2",
   "metadata": {},
   "outputs": [
    {
     "name": "stdout",
     "output_type": "stream",
     "text": [
      "{'clf__C': 60, 'clf__gamma': 0.0001, 'pca__n_components': 6}\n",
      "0.7276555403596257\n",
      "CPU times: user 6.28 s, sys: 1.9 s, total: 8.18 s\n",
      "Wall time: 5min 23s\n"
     ]
    }
   ],
   "source": [
    "%%time\n",
    "clf=SVC(random_state=0)\n",
    "\n",
    "scaling=StandardScaler()\n",
    "n_components=[2,4,6]\n",
    "\n",
    "param_grid = {'pca__n_components':n_components,\n",
    "                  'clf__C': Cs, 'clf__gamma' : gammas}\n",
    "\n",
    "pipe = Pipeline(steps=[('sc',scaling),('pca', PCA()), ('clf', clf)])\n",
    "grid_search =GridSearchCV(pipe , param_grid,  cv=GroupKFold(5 ),n_jobs=-1,scoring='f1_macro')\n",
    "grid_search.fit(X,y,groups=groups)\n",
    "print(grid_search.best_params_)\n",
    "print(grid_search.best_score_)"
   ]
  },
  {
   "cell_type": "code",
   "execution_count": 49,
   "id": "b509e2db",
   "metadata": {},
   "outputs": [
    {
     "data": {
      "text/plain": [
       "([0.779, 0.734, 0.728, 0.735], [0.071, 0.11, 0.12, 0.102])"
      ]
     },
     "execution_count": 49,
     "metadata": {},
     "output_type": "execute_result"
    }
   ],
   "source": [
    "pipe = grid_search.best_estimator_\n",
    "cv=cross_validate(pipe,X,y,groups=groups,cv=GroupKFold(5),n_jobs=-1,scoring=scoring)\n",
    "mean=[np.mean(cv[i]).round(3) for i in cv][2::]\n",
    "std=[np.std(cv[i]).round(3) for i in cv][2::]\n",
    "mean,std"
   ]
  },
  {
   "cell_type": "code",
   "execution_count": null,
   "id": "12d9fb72",
   "metadata": {},
   "outputs": [],
   "source": []
  },
  {
   "cell_type": "code",
   "execution_count": null,
   "id": "f451b3b7",
   "metadata": {},
   "outputs": [],
   "source": []
  }
 ],
 "metadata": {
  "kernelspec": {
   "display_name": "Python 3 (ipykernel)",
   "language": "python",
   "name": "python3"
  },
  "language_info": {
   "codemirror_mode": {
    "name": "ipython",
    "version": 3
   },
   "file_extension": ".py",
   "mimetype": "text/x-python",
   "name": "python",
   "nbconvert_exporter": "python",
   "pygments_lexer": "ipython3",
   "version": "3.10.12"
  }
 },
 "nbformat": 4,
 "nbformat_minor": 5
}
